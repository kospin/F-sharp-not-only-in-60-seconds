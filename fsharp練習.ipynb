{
 "cells": [
  {
   "cell_type": "markdown",
   "metadata": {},
   "source": [
    "# F#"
   ]
  },
  {
   "cell_type": "markdown",
   "metadata": {},
   "source": [
    "[https://docs.microsoft.com/zh-tw/dotnet/fsharp/language-reference"
   ]
  },
  {
   "cell_type": "code",
   "execution_count": 2,
   "metadata": {
    "dotnet_interactive": {
     "language": "fsharp"
    }
   },
   "outputs": [],
   "source": [
    "//常數標記\n",
    "[<Literal>]\n",
    "let Literal1=\"a\"+\"b\""
   ]
  },
  {
   "cell_type": "code",
   "execution_count": 3,
   "metadata": {
    "dotnet_interactive": {
     "language": "fsharp"
    }
   },
   "outputs": [
    {
     "data": {
      "text/html": [
       "<div class=\"dni-plaintext\">500</div>"
      ]
     },
     "execution_count": 3,
     "metadata": {},
     "output_type": "execute_result"
    }
   ],
   "source": [
    "let a=500\n",
    "a"
   ]
  },
  {
   "cell_type": "code",
   "execution_count": 4,
   "metadata": {
    "dotnet_interactive": {
     "language": "fsharp"
    }
   },
   "outputs": [
    {
     "data": {
      "text/plain": [
       "def"
      ]
     },
     "execution_count": 4,
     "metadata": {},
     "output_type": "execute_result"
    }
   ],
   "source": [
    "let s=\"abcdefg\"\n",
    "s.[3..5]\n",
    "//可是也有s[3..5]的,是不是版本的問題"
   ]
  },
  {
   "cell_type": "code",
   "execution_count": 5,
   "metadata": {},
   "outputs": [
    {
     "data": {
      "text/plain": [
       "cde"
      ]
     },
     "execution_count": 5,
     "metadata": {},
     "output_type": "execute_result"
    }
   ],
   "source": [
    "s[2..4]"
   ]
  },
  {
   "cell_type": "code",
   "execution_count": 6,
   "metadata": {
    "dotnet_interactive": {
     "language": "fsharp"
    }
   },
   "outputs": [
    {
     "name": "stdout",
     "output_type": "stream",
     "text": [
      "Name: \"Phillip\", Age: 30\n",
      "3.14\n",
      "I think 3.140000 is close to 3.141593!\n"
     ]
    }
   ],
   "source": [
    "let name = \"Phillip\"\n",
    "let age = 30\n",
    "printfn \"Name: %A, Age: %A\" name age\n",
    "\n",
    "printfn \"%A\" (3.0 + 0.14)\n",
    "\n",
    "printfn \"I think %f is close to %f!\" (3.0+0.14) System.Math.PI"
   ]
  },
  {
   "cell_type": "code",
   "execution_count": 7,
   "metadata": {
    "dotnet_interactive": {
     "language": "fsharp"
    }
   },
   "outputs": [
    {
     "data": {
      "text/html": [
       "<div class=\"dni-plaintext\">1200</div>"
      ]
     },
     "execution_count": 7,
     "metadata": {},
     "output_type": "execute_result"
    }
   ],
   "source": [
    "let mutable b = a+100\n",
    "b <- b*2\n",
    "b"
   ]
  },
  {
   "cell_type": "code",
   "execution_count": 8,
   "metadata": {
    "dotnet_interactive": {
     "language": "fsharp"
    }
   },
   "outputs": [
    {
     "data": {
      "text/html": [
       "<div class=\"dni-plaintext\">338350</div>"
      ]
     },
     "execution_count": 8,
     "metadata": {},
     "output_type": "execute_result"
    }
   ],
   "source": [
    "let 平方 x = x*x\n",
    "[1..100] |> List.map (fun x->x*x) |> List.sum "
   ]
  },
  {
   "cell_type": "code",
   "execution_count": null,
   "metadata": {
    "dotnet_interactive": {
     "language": "fsharp"
    }
   },
   "outputs": [
    {
     "data": {
      "text/html": [
       "<div class=\"dni-plaintext\">338350</div>"
      ]
     },
     "metadata": {},
     "output_type": "display_data"
    }
   ],
   "source": [
    "[1..100] |> List.map 平方 |> List.sum"
   ]
  },
  {
   "cell_type": "code",
   "execution_count": 10,
   "metadata": {
    "dotnet_interactive": {
     "language": "fsharp"
    }
   },
   "outputs": [
    {
     "name": "stdout",
     "output_type": "stream",
     "text": [
      "1\n",
      "2\n",
      "3\n",
      "5\n",
      "7\n",
      "11\n",
      "13\n",
      "17\n",
      "19\n"
     ]
    }
   ],
   "source": [
    "let isPrime (n:int) =\n",
    "   let bound = int (sqrt (float n))\n",
    "   seq {2 .. bound} |> Seq.forall (fun x -> n % x <> 0)\n",
    "\n",
    "// We are using async workflows\n",
    "let primeAsync n =\n",
    "    async { return (n, isPrime n) }\n",
    "\n",
    "/// Return primes between m and n using multiple threads\n",
    "let primes m n =\n",
    "    seq {m .. n}\n",
    "        |> Seq.map primeAsync\n",
    "        |> Async.Parallel\n",
    "        |> Async.RunSynchronously\n",
    "        |> Array.filter snd\n",
    "        |> Array.map fst\n",
    "\n",
    "// Run a test\n",
    "primes 1 20\n",
    "    |> Array.iter (printfn \"%d\")"
   ]
  },
  {
   "cell_type": "code",
   "execution_count": 11,
   "metadata": {
    "dotnet_interactive": {
     "language": "fsharp"
    }
   },
   "outputs": [
    {
     "name": "stdout",
     "output_type": "stream",
     "text": [
      "100\n"
     ]
    }
   ],
   "source": [
    "// Make a tuple of values instead of identifiers.\n",
    "let funAndArgTuple2 = ((fun n -> n * n), 10)\n",
    "\n",
    "// The following expression applies a squaring function to 10, returns\n",
    "// 100, and then displays 100.\n",
    "System.Console.WriteLine((fst funAndArgTuple2)(snd funAndArgTuple2))"
   ]
  },
  {
   "cell_type": "code",
   "execution_count": 12,
   "metadata": {
    "dotnet_interactive": {
     "language": "fsharp"
    }
   },
   "outputs": [
    {
     "data": {
      "text/html": [
       "<div class=\"dni-plaintext\">100</div>"
      ]
     },
     "execution_count": 12,
     "metadata": {},
     "output_type": "execute_result"
    }
   ],
   "source": [
    "(fun n -> n*n)(10)"
   ]
  },
  {
   "cell_type": "code",
   "execution_count": 13,
   "metadata": {
    "dotnet_interactive": {
     "language": "fsharp"
    }
   },
   "outputs": [
    {
     "name": "stderr",
     "output_type": "stream",
     "text": [
      "\n",
      "input.fsx (2,1)-(2,15) typecheck warning F# 程式碼不常使用這個方法或屬性，請改用明確的元組模式進行解構。\n",
      "\n"
     ]
    },
    {
     "data": {
      "text/html": [
       "<div class=\"dni-plaintext\">2</div>"
      ]
     },
     "execution_count": 13,
     "metadata": {},
     "output_type": "execute_result"
    }
   ],
   "source": [
    "let list = [1,2,3;2,3,4;3,4,5]\n",
    "list.[1].Item1"
   ]
  },
  {
   "cell_type": "code",
   "execution_count": 14,
   "metadata": {
    "dotnet_interactive": {
     "language": "fsharp"
    }
   },
   "outputs": [],
   "source": [
    "let makeGame target =\n",
    "    // Build a lambda expression that is the function that plays the game.\n",
    "    let game = fun guess ->\n",
    "                   if guess = target then\n",
    "                      System.Console.WriteLine(\"You win!\")\n",
    "                   else\n",
    "                      System.Console.WriteLine(\"Wrong. Try again.\")\n",
    "    // Now just return it.\n",
    "    game"
   ]
  },
  {
   "cell_type": "code",
   "execution_count": 15,
   "metadata": {
    "dotnet_interactive": {
     "language": "fsharp"
    }
   },
   "outputs": [],
   "source": [
    "let playGame = makeGame 7"
   ]
  },
  {
   "cell_type": "code",
   "execution_count": 16,
   "metadata": {
    "dotnet_interactive": {
     "language": "fsharp"
    }
   },
   "outputs": [
    {
     "name": "stdout",
     "output_type": "stream",
     "text": [
      "Wrong. Try again.\n"
     ]
    }
   ],
   "source": [
    "playGame 2"
   ]
  },
  {
   "cell_type": "code",
   "execution_count": 17,
   "metadata": {
    "dotnet_interactive": {
     "language": "fsharp"
    }
   },
   "outputs": [
    {
     "name": "stderr",
     "output_type": "stream",
     "text": [
      "\n",
      "input.fsx (2,1)-(2,11) typecheck warning F# 程式碼不常使用這個方法或屬性，請改用明確的元組模式進行解構。\n",
      "\n"
     ]
    },
    {
     "data": {
      "text/html": [
       "<div class=\"dni-plaintext\">3</div>"
      ]
     },
     "execution_count": 17,
     "metadata": {},
     "output_type": "execute_result"
    }
   ],
   "source": [
    "let list = 1,2,3,4\n",
    "list.Item3"
   ]
  },
  {
   "cell_type": "code",
   "execution_count": 18,
   "metadata": {},
   "outputs": [
    {
     "data": {
      "text/html": [
       "<div class=\"dni-plaintext\">2</div>"
      ]
     },
     "execution_count": 18,
     "metadata": {},
     "output_type": "execute_result"
    }
   ],
   "source": [
    "let _,a,_,_ = list\n",
    "a"
   ]
  },
  {
   "cell_type": "code",
   "execution_count": 19,
   "metadata": {
    "dotnet_interactive": {
     "language": "fsharp"
    }
   },
   "outputs": [
    {
     "name": "stdout",
     "output_type": "stream",
     "text": [
      "this is an int\n",
      "float\n",
      "System.Double\n"
     ]
    }
   ],
   "source": [
    "let detectTypeBoxed v =\n",
    "    match box v with      // used \"box v\"\n",
    "        | :? int -> printfn \"this is an int\"\n",
    "        | :? float -> printfn \"float\"\n",
    "        | _ -> printfn \"something else\"\n",
    "detectTypeBoxed 100\n",
    "detectTypeBoxed -5.0\n",
    "printfn \"%A\" ((-5.0).GetType())"
   ]
  },
  {
   "cell_type": "code",
   "execution_count": 11,
   "metadata": {
    "dotnet_interactive": {
     "language": "fsharp"
    }
   },
   "outputs": [
    {
     "name": "stdout",
     "output_type": "stream",
     "text": [
      "7.3, 8\n",
      "7, 5\n"
     ]
    }
   ],
   "source": [
    "let func2<'T> x y =\n",
    "    Console.WriteLine(\"{0}, {1}\", x, y)\n",
    "func2 7.3 8\n",
    "func2<int> 7 5"
   ]
  },
  {
   "cell_type": "code",
   "execution_count": 13,
   "metadata": {
    "dotnet_interactive": {
     "language": "fsharp"
    }
   },
   "outputs": [
    {
     "data": {
      "text/html": [
       "<table><thead><tr><th>Item1</th><th>Item2</th></tr></thead><tbody><tr><td><div class=\"dni-plaintext\">26</div></td><td><div class=\"dni-plaintext\">81</div></td></tr></tbody></table>"
      ]
     },
     "execution_count": 13,
     "metadata": {},
     "output_type": "execute_result"
    }
   ],
   "source": [
    "let c = fst (13, 27)\n",
    "let d = snd (13, 27)\n",
    "c*2,d*3"
   ]
  },
  {
   "cell_type": "code",
   "execution_count": 14,
   "metadata": {
    "dotnet_interactive": {
     "language": "fsharp"
    }
   },
   "outputs": [
    {
     "name": "stdout",
     "output_type": "stream",
     "text": [
      "Before Product Availability:\n",
      "{ ID = 0\n",
      "  IsAvailable = false\n",
      "  Description = null }\n",
      "{ ID = 1\n",
      "  IsAvailable = false\n",
      "  Description = null }\n",
      "{ ID = 2\n",
      "  IsAvailable = false\n",
      "  Description = null }\n",
      "{ ID = 3\n",
      "  IsAvailable = false\n",
      "  Description = null }\n",
      "After Product Availability:\n",
      "{ ID = 0\n",
      "  IsAvailable = true\n",
      "  Description = \"In Stock \" }\n",
      "{ ID = 1\n",
      "  IsAvailable = true\n",
      "  Description = \"In Stock \" }\n",
      "{ ID = 2\n",
      "  IsAvailable = true\n",
      "  Description = \"In Stock \" }\n",
      "{ ID = 3\n",
      "  IsAvailable = true\n",
      "  Description = \"In Stock \" }\n"
     ]
    },
    {
     "ename": "Unhandled exception",
     "evalue": "System.InvalidOperationException: Cannot read keys when either application does not have a console or when console input has been redirected. Try Console.Read.\r\n   at System.ConsolePal.ReadKey(Boolean intercept)\r\n   at System.Console.ReadKey(Boolean intercept)\r\n   at FSI_0018.main()\r\n   at <StartupCode$FSI_0018>.$FSI_0018.main@()",
     "output_type": "error",
     "traceback": [
      "System.InvalidOperationException: Cannot read keys when either application does not have a console or when console input has been redirected. Try Console.Read.\r\n   at System.ConsolePal.ReadKey(Boolean intercept)\r\n   at System.Console.ReadKey(Boolean intercept)\r\n   at FSI_0018.main()\r\n   at <StartupCode$FSI_0018>.$FSI_0018.main@()",
      "   at System.ConsolePal.ReadKey(Boolean intercept)",
      "   at System.Console.ReadKey(Boolean intercept)",
      "   at FSI_0018.main()",
      "   at <StartupCode$FSI_0018>.$FSI_0018.main@()"
     ]
    }
   ],
   "source": [
    "type productData =\n",
    "   { ID : int;\n",
    "      mutable IsAvailable : bool;\n",
    "      mutable Description : string; }\n",
    "\n",
    "let getProduct id =\n",
    "   { ID = id;\n",
    "      IsAvailable = false;\n",
    "      Description = null; }\n",
    "\n",
    "let availableProducts (products : productData list) =\n",
    "   products |> List.iter(fun st ->\n",
    "      st.IsAvailable <- true\n",
    "      st.Description <- sprintf \"In Stock \"\n",
    "\n",
    "      Threading.Thread.Sleep(1000) (* Putting thread to sleep for 1 second to simulate processing overhead. *))\n",
    "\n",
    "let printData (products : productData list) =\n",
    "   products |> List.iter (fun x -> printfn \"%A\" x)\n",
    "\n",
    "let main() =\n",
    "   let products = List.init 4 getProduct\n",
    "\n",
    "   printfn \"Before Product Availability:\"\n",
    "   printData products\n",
    "\n",
    "   printfn \"After Product Availability:\"\n",
    "   availableProducts products\n",
    "   printData products\n",
    "\n",
    "   Console.ReadKey(true) |> ignore\n",
    "\n",
    "main()"
   ]
  },
  {
   "cell_type": "code",
   "execution_count": 15,
   "metadata": {
    "dotnet_interactive": {
     "language": "fsharp"
    }
   },
   "outputs": [
    {
     "data": {
      "text/html": [
       "<div><div></div><div></div><div><strong>Installed Packages</strong><ul><li><span>xplot.plotly.interactive, 4.0.6</span></li></ul></div></div>"
      ]
     },
     "metadata": {},
     "output_type": "display_data"
    },
    {
     "data": {
      "text/markdown": [
       "Loading extensions from `XPlot.Plotly.Interactive.dll`"
      ]
     },
     "metadata": {},
     "output_type": "display_data"
    },
    {
     "data": {
      "text/markdown": [
       "Configuring PowerShell Kernel for XPlot.Plotly integration."
      ]
     },
     "metadata": {},
     "output_type": "display_data"
    },
    {
     "data": {
      "text/markdown": [
       "Installed support for XPlot.Plotly."
      ]
     },
     "metadata": {},
     "output_type": "display_data"
    }
   ],
   "source": [
    "#r \"nuget:xplot.plotly.interactive\""
   ]
  },
  {
   "cell_type": "code",
   "execution_count": 16,
   "metadata": {
    "dotnet_interactive": {
     "language": "fsharp"
    }
   },
   "outputs": [
    {
     "data": {
      "text/html": [
       "<div><div></div><div></div><div><strong>Installed Packages</strong><ul><li><span>FsLab, 1.1.6</span></li></ul></div></div>"
      ]
     },
     "metadata": {},
     "output_type": "display_data"
    }
   ],
   "source": [
    "#r \"nuget:FsLab\""
   ]
  },
  {
   "cell_type": "code",
   "execution_count": 17,
   "metadata": {
    "dotnet_interactive": {
     "language": "fsharp"
    }
   },
   "outputs": [],
   "source": [
    "open XPlot.Plotly"
   ]
  },
  {
   "cell_type": "code",
   "execution_count": 18,
   "metadata": {
    "dotnet_interactive": {
     "language": "fsharp"
    }
   },
   "outputs": [
    {
     "data": {
      "text/html": [
       "<!DOCTYPE html>\r\n",
       "<div style=\"width: 900px; height: 500px;\" id=\"b8ece980-de88-40e3-8f57-bf839e303abe\"></div><script type=\"text/javascript\">\r\n",
       "\n",
       "var renderPlotly = function() {\n",
       "    var xplotRequire = require.config({context:'xplot-3.0.1',paths:{plotly:'https://cdn.plot.ly/plotly-1.49.2.min'}}) || require;\n",
       "    xplotRequire(['plotly'], function(Plotly) { \r\n",
       "\n",
       "            var data = [{\"type\":\"scatter\",\"y\":[3,1,7]}];\n",
       "           var layout = \"\";\n",
       "           Plotly.newPlot('b8ece980-de88-40e3-8f57-bf839e303abe', data, layout);\n",
       "        \r\n",
       "});\n",
       "};\r\n",
       "// ensure `require` is available globally\r\n",
       "if ((typeof(require) !==  typeof(Function)) || (typeof(require.config) !== typeof(Function))) {\r\n",
       "    let require_script = document.createElement('script');\r\n",
       "    require_script.setAttribute('src', 'https://cdnjs.cloudflare.com/ajax/libs/require.js/2.3.6/require.min.js');\r\n",
       "    require_script.setAttribute('type', 'text/javascript');\r\n",
       "    \r\n",
       "    \r\n",
       "    require_script.onload = function() {\r\n",
       "        renderPlotly();\r\n",
       "    };\r\n",
       "\r\n",
       "    document.getElementsByTagName('head')[0].appendChild(require_script);\r\n",
       "}\r\n",
       "else {\r\n",
       "    renderPlotly();\r\n",
       "}\r\n",
       "\r\n",
       "</script>\r\n"
      ]
     },
     "execution_count": 18,
     "metadata": {},
     "output_type": "execute_result"
    }
   ],
   "source": [
    "let m = 3::1::7::[]\n",
    "XPlot.Plotly.Chart.Line m "
   ]
  }
 ],
 "metadata": {
  "kernelspec": {
   "display_name": ".NET (F#)",
   "language": "F#",
   "name": ".net-fsharp"
  },
  "language": "fsharp",
  "language_info": {
   "file_extension": ".fs",
   "mimetype": "text/x-fsharp",
   "name": "F#",
   "pygments_lexer": "fsharp",
   "version": "5.0"
  }
 },
 "nbformat": 4,
 "nbformat_minor": 4
}
