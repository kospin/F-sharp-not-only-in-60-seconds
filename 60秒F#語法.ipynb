{
 "cells": [
  {
   "cell_type": "markdown",
   "metadata": {},
   "source": [
    "# F# 60秒"
   ]
  },
  {
   "cell_type": "code",
   "execution_count": 1,
   "metadata": {
    "dotnet_interactive": {
     "language": "fsharp"
    }
   },
   "outputs": [
    {
     "data": {
      "text/html": [
       "\r\n",
       "<div>\r\n",
       "    <div id='dotnet-interactive-this-cell-13868.Microsoft.DotNet.Interactive.Http.HttpPort' style='display: none'>\r\n",
       "        The below script needs to be able to find the current output cell; this is an easy method to get it.\r\n",
       "    </div>\r\n",
       "    <script type='text/javascript'>\r\n",
       "async function probeAddresses(probingAddresses) {\r\n",
       "    function timeout(ms, promise) {\r\n",
       "        return new Promise(function (resolve, reject) {\r\n",
       "            setTimeout(function () {\r\n",
       "                reject(new Error('timeout'))\r\n",
       "            }, ms)\r\n",
       "            promise.then(resolve, reject)\r\n",
       "        })\r\n",
       "    }\r\n",
       "\r\n",
       "    if (Array.isArray(probingAddresses)) {\r\n",
       "        for (let i = 0; i < probingAddresses.length; i++) {\r\n",
       "\r\n",
       "            let rootUrl = probingAddresses[i];\r\n",
       "\r\n",
       "            if (!rootUrl.endsWith('/')) {\r\n",
       "                rootUrl = `${rootUrl}/`;\r\n",
       "            }\r\n",
       "\r\n",
       "            try {\r\n",
       "                let response = await timeout(1000, fetch(`${rootUrl}discovery`, {\r\n",
       "                    method: 'POST',\r\n",
       "                    cache: 'no-cache',\r\n",
       "                    mode: 'cors',\r\n",
       "                    timeout: 1000,\r\n",
       "                    headers: {\r\n",
       "                        'Content-Type': 'text/plain'\r\n",
       "                    },\r\n",
       "                    body: probingAddresses[i]\r\n",
       "                }));\r\n",
       "\r\n",
       "                if (response.status == 200) {\r\n",
       "                    return rootUrl;\r\n",
       "                }\r\n",
       "            }\r\n",
       "            catch (e) { }\r\n",
       "        }\r\n",
       "    }\r\n",
       "}\r\n",
       "\r\n",
       "function loadDotnetInteractiveApi() {\r\n",
       "    probeAddresses([\"http://192.168.135.2:1000/\", \"http://192.168.149.1:1000/\", \"http://192.168.25.1:1000/\", \"http://127.0.0.1:1000/\"])\r\n",
       "        .then((root) => {\r\n",
       "        // use probing to find host url and api resources\r\n",
       "        // load interactive helpers and language services\r\n",
       "        let dotnetInteractiveRequire = require.config({\r\n",
       "        context: '13868.Microsoft.DotNet.Interactive.Http.HttpPort',\r\n",
       "                paths:\r\n",
       "            {\r\n",
       "                'dotnet-interactive': `${root}resources`\r\n",
       "                }\r\n",
       "        }) || require;\r\n",
       "\r\n",
       "            window.dotnetInteractiveRequire = dotnetInteractiveRequire;\r\n",
       "\r\n",
       "            window.configureRequireFromExtension = function(extensionName, extensionCacheBuster) {\r\n",
       "                let paths = {};\r\n",
       "                paths[extensionName] = `${root}extensions/${extensionName}/resources/`;\r\n",
       "                \r\n",
       "                let internalRequire = require.config({\r\n",
       "                    context: extensionCacheBuster,\r\n",
       "                    paths: paths,\r\n",
       "                    urlArgs: `cacheBuster=${extensionCacheBuster}`\r\n",
       "                    }) || require;\r\n",
       "\r\n",
       "                return internalRequire\r\n",
       "            };\r\n",
       "        \r\n",
       "            dotnetInteractiveRequire([\r\n",
       "                    'dotnet-interactive/dotnet-interactive'\r\n",
       "                ],\r\n",
       "                function (dotnet) {\r\n",
       "                    dotnet.init(window);\r\n",
       "                },\r\n",
       "                function (error) {\r\n",
       "                    console.log(error);\r\n",
       "                }\r\n",
       "            );\r\n",
       "        })\r\n",
       "        .catch(error => {console.log(error);});\r\n",
       "    }\r\n",
       "\r\n",
       "// ensure `require` is available globally\r\n",
       "if ((typeof(require) !==  typeof(Function)) || (typeof(require.config) !== typeof(Function))) {\r\n",
       "    let require_script = document.createElement('script');\r\n",
       "    require_script.setAttribute('src', 'https://cdnjs.cloudflare.com/ajax/libs/require.js/2.3.6/require.min.js');\r\n",
       "    require_script.setAttribute('type', 'text/javascript');\r\n",
       "    \r\n",
       "    \r\n",
       "    require_script.onload = function() {\r\n",
       "        loadDotnetInteractiveApi();\r\n",
       "    };\r\n",
       "\r\n",
       "    document.getElementsByTagName('head')[0].appendChild(require_script);\r\n",
       "}\r\n",
       "else {\r\n",
       "    loadDotnetInteractiveApi();\r\n",
       "}\r\n",
       "\r\n",
       "    </script>\r\n",
       "</div>"
      ]
     },
     "metadata": {},
     "output_type": "display_data"
    }
   ],
   "source": [
    "// 單行註解\n",
    "(* 多行使用 (* . . . *) 刮號星對\n",
    "\n",
    "最後註解行 *)"
   ]
  },
  {
   "cell_type": "markdown",
   "metadata": {
    "dotnet_interactive": {
     "language": "fsharp"
    }
   },
   "source": [
    "## \"變數\" (但不一定變)"
   ]
  },
  {
   "cell_type": "code",
   "execution_count": 2,
   "metadata": {
    "dotnet_interactive": {
     "language": "fsharp"
    }
   },
   "outputs": [
    {
     "name": "stdout",
     "output_type": "stream",
     "text": [
      "5\n",
      "False\n",
      "12\n"
     ]
    }
   ],
   "source": [
    "// \"let\" 定義一個 (不可變) 值\n",
    "let myInt = 5\n",
    "myInt = myInt + 10  //這行沒鳥用啊\n",
    "printfn $\"{myInt}\" //5\n",
    "printfn $\"{myInt = myInt + 10}\" //因為=是判別式\n",
    "let myInt1=myInt+5\n",
    "let myint2=myInt1+2 \n",
    "printfn $\"{myint2}\"\n",
    "\n",
    "let myFloat = 3.14\n",
    "let myString = \"hello\"    //不須型別"
   ]
  },
  {
   "cell_type": "code",
   "execution_count": 3,
   "metadata": {
    "dotnet_interactive": {
     "language": "fsharp"
    }
   },
   "outputs": [
    {
     "name": "stdout",
     "output_type": "stream",
     "text": [
      "15\n"
     ]
    }
   ],
   "source": [
    "// let mutable 指定可變數\n",
    "// <- 指派變更\n",
    "let mutable mmInt = 5\n",
    "mmInt <- mmInt + 10 \n",
    "printfn \"%d\" mmInt"
   ]
  },
  {
   "cell_type": "code",
   "execution_count": 74,
   "metadata": {
    "dotnet_interactive": {
     "language": "fsharp"
    }
   },
   "outputs": [
    {
     "data": {
      "text/html": [
       "<table><thead><tr><th>Item1</th><th>Item2</th><th>Item3</th></tr></thead><tbody><tr><td><div class=\"dni-plaintext\">3</div></td><td><div class=\"dni-plaintext\">4</div></td><td><div class=\"dni-plaintext\">2</div></td></tr></tbody></table>"
      ]
     },
     "execution_count": 74,
     "metadata": {},
     "output_type": "execute_result"
    }
   ],
   "source": [
    "let mutable i,j,k = 2,3,4\n",
    "let ti,tj,tk = i,j,k\n",
    "k<-ti;i<-tj;j<-tk\n",
    "i,j,k\n"
   ]
  },
  {
   "cell_type": "code",
   "execution_count": 5,
   "metadata": {
    "dotnet_interactive": {
     "language": "fsharp"
    }
   },
   "outputs": [
    {
     "data": {
      "text/html": [
       "<div class=\"dni-plaintext\">9</div>"
      ]
     },
     "execution_count": 5,
     "metadata": {},
     "output_type": "execute_result"
    }
   ],
   "source": [
    "let l = i+j+k\n",
    "l"
   ]
  },
  {
   "cell_type": "code",
   "execution_count": 6,
   "metadata": {
    "dotnet_interactive": {
     "language": "fsharp"
    }
   },
   "outputs": [
    {
     "data": {
      "text/html": [
       "<div class=\"dni-plaintext\">14</div>"
      ]
     },
     "execution_count": 6,
     "metadata": {},
     "output_type": "execute_result"
    }
   ],
   "source": [
    "let result =\n",
    "    let i,j,k = 1,2,3\n",
    "    i+2*j+3*k\n",
    "result"
   ]
  },
  {
   "cell_type": "code",
   "execution_count": 1,
   "metadata": {
    "dotnet_interactive": {
     "language": "fsharp"
    }
   },
   "outputs": [
    {
     "data": {
      "text/html": [
       "\r\n",
       "<div>\r\n",
       "    <div id='dotnet-interactive-this-cell-10444.Microsoft.DotNet.Interactive.Http.HttpPort' style='display: none'>\r\n",
       "        The below script needs to be able to find the current output cell; this is an easy method to get it.\r\n",
       "    </div>\r\n",
       "    <script type='text/javascript'>\r\n",
       "async function probeAddresses(probingAddresses) {\r\n",
       "    function timeout(ms, promise) {\r\n",
       "        return new Promise(function (resolve, reject) {\r\n",
       "            setTimeout(function () {\r\n",
       "                reject(new Error('timeout'))\r\n",
       "            }, ms)\r\n",
       "            promise.then(resolve, reject)\r\n",
       "        })\r\n",
       "    }\r\n",
       "\r\n",
       "    if (Array.isArray(probingAddresses)) {\r\n",
       "        for (let i = 0; i < probingAddresses.length; i++) {\r\n",
       "\r\n",
       "            let rootUrl = probingAddresses[i];\r\n",
       "\r\n",
       "            if (!rootUrl.endsWith('/')) {\r\n",
       "                rootUrl = `${rootUrl}/`;\r\n",
       "            }\r\n",
       "\r\n",
       "            try {\r\n",
       "                let response = await timeout(1000, fetch(`${rootUrl}discovery`, {\r\n",
       "                    method: 'POST',\r\n",
       "                    cache: 'no-cache',\r\n",
       "                    mode: 'cors',\r\n",
       "                    timeout: 1000,\r\n",
       "                    headers: {\r\n",
       "                        'Content-Type': 'text/plain'\r\n",
       "                    },\r\n",
       "                    body: probingAddresses[i]\r\n",
       "                }));\r\n",
       "\r\n",
       "                if (response.status == 200) {\r\n",
       "                    return rootUrl;\r\n",
       "                }\r\n",
       "            }\r\n",
       "            catch (e) { }\r\n",
       "        }\r\n",
       "    }\r\n",
       "}\r\n",
       "\r\n",
       "function loadDotnetInteractiveApi() {\r\n",
       "    probeAddresses([\"http://192.168.135.2:1001/\", \"http://192.168.149.1:1001/\", \"http://192.168.25.1:1001/\", \"http://127.0.0.1:1001/\"])\r\n",
       "        .then((root) => {\r\n",
       "        // use probing to find host url and api resources\r\n",
       "        // load interactive helpers and language services\r\n",
       "        let dotnetInteractiveRequire = require.config({\r\n",
       "        context: '10444.Microsoft.DotNet.Interactive.Http.HttpPort',\r\n",
       "                paths:\r\n",
       "            {\r\n",
       "                'dotnet-interactive': `${root}resources`\r\n",
       "                }\r\n",
       "        }) || require;\r\n",
       "\r\n",
       "            window.dotnetInteractiveRequire = dotnetInteractiveRequire;\r\n",
       "\r\n",
       "            window.configureRequireFromExtension = function(extensionName, extensionCacheBuster) {\r\n",
       "                let paths = {};\r\n",
       "                paths[extensionName] = `${root}extensions/${extensionName}/resources/`;\r\n",
       "                \r\n",
       "                let internalRequire = require.config({\r\n",
       "                    context: extensionCacheBuster,\r\n",
       "                    paths: paths,\r\n",
       "                    urlArgs: `cacheBuster=${extensionCacheBuster}`\r\n",
       "                    }) || require;\r\n",
       "\r\n",
       "                return internalRequire\r\n",
       "            };\r\n",
       "        \r\n",
       "            dotnetInteractiveRequire([\r\n",
       "                    'dotnet-interactive/dotnet-interactive'\r\n",
       "                ],\r\n",
       "                function (dotnet) {\r\n",
       "                    dotnet.init(window);\r\n",
       "                },\r\n",
       "                function (error) {\r\n",
       "                    console.log(error);\r\n",
       "                }\r\n",
       "            );\r\n",
       "        })\r\n",
       "        .catch(error => {console.log(error);});\r\n",
       "    }\r\n",
       "\r\n",
       "// ensure `require` is available globally\r\n",
       "if ((typeof(require) !==  typeof(Function)) || (typeof(require.config) !== typeof(Function))) {\r\n",
       "    let require_script = document.createElement('script');\r\n",
       "    require_script.setAttribute('src', 'https://cdnjs.cloudflare.com/ajax/libs/require.js/2.3.6/require.min.js');\r\n",
       "    require_script.setAttribute('type', 'text/javascript');\r\n",
       "    \r\n",
       "    \r\n",
       "    require_script.onload = function() {\r\n",
       "        loadDotnetInteractiveApi();\r\n",
       "    };\r\n",
       "\r\n",
       "    document.getElementsByTagName('head')[0].appendChild(require_script);\r\n",
       "}\r\n",
       "else {\r\n",
       "    loadDotnetInteractiveApi();\r\n",
       "}\r\n",
       "\r\n",
       "    </script>\r\n",
       "</div>"
      ]
     },
     "metadata": {},
     "output_type": "display_data"
    },
    {
     "name": "stdout",
     "output_type": "stream",
     "text": [
      "[1; 2; 3; 4; 5]\n"
     ]
    },
    {
     "data": {
      "text/html": [
       "<table><thead><tr><th><i>index</i></th><th>value</th></tr></thead><tbody><tr><td>0</td><td><div class=\"dni-plaintext\">0</div></td></tr><tr><td>1</td><td><div class=\"dni-plaintext\">1</div></td></tr><tr><td>2</td><td><div class=\"dni-plaintext\">2</div></td></tr><tr><td>3</td><td><div class=\"dni-plaintext\">3</div></td></tr><tr><td>4</td><td><div class=\"dni-plaintext\">4</div></td></tr><tr><td>5</td><td><div class=\"dni-plaintext\">5</div></td></tr></tbody></table>"
      ]
     },
     "execution_count": 1,
     "metadata": {},
     "output_type": "execute_result"
    }
   ],
   "source": [
    "// ======== 串列 ============\n",
    "let twoToFive = [2;3;4;5]        //中刮號包列,分號區分\n",
    "let oneToFive = 1 :: twoToFive   // :: 插入首項\n",
    "let oneToFive1 = [1] @ twoToFive  // @ 合併\n",
    "printfn \"%A\" oneToFive1\n",
    "// The result is [1;2;3;4;5]\n",
    "let zeroToFive = [0;1] @ twoToFive   // @ concats two lists\n",
    "\n",
    "// IMPORTANT: commas are never used as delimiters, only semicolons!\n",
    "zeroToFive"
   ]
  },
  {
   "cell_type": "code",
   "execution_count": 5,
   "metadata": {
    "dotnet_interactive": {
     "language": "fsharp"
    }
   },
   "outputs": [
    {
     "data": {
      "text/html": [
       "<div class=\"dni-plaintext\">3</div>"
      ]
     },
     "execution_count": 5,
     "metadata": {},
     "output_type": "execute_result"
    }
   ],
   "source": [
    "zeroToFive.[3]"
   ]
  },
  {
   "cell_type": "markdown",
   "metadata": {
    "dotnet_interactive": {
     "language": "fsharp"
    }
   },
   "source": [
    "##  方程式 "
   ]
  },
  {
   "cell_type": "code",
   "execution_count": 16,
   "metadata": {
    "dotnet_interactive": {
     "language": "fsharp"
    }
   },
   "outputs": [
    {
     "data": {
      "text/html": [
       "<div class=\"dni-plaintext\">9</div>"
      ]
     },
     "execution_count": 16,
     "metadata": {},
     "output_type": "execute_result"
    }
   ],
   "source": [
    "// \"let\" 也定義方程式\n",
    "let square x = x * x          // 不用刮號\n",
    "square 3                      // 叫用也不用刮號"
   ]
  },
  {
   "cell_type": "code",
   "execution_count": 17,
   "metadata": {
    "dotnet_interactive": {
     "language": "fsharp"
    }
   },
   "outputs": [
    {
     "data": {
      "text/html": [
       "<div class=\"dni-plaintext\">FSI_0021+it@1-6</div>"
      ]
     },
     "execution_count": 17,
     "metadata": {},
     "output_type": "execute_result"
    }
   ],
   "source": [
    "square.GetType"
   ]
  },
  {
   "cell_type": "code",
   "execution_count": 18,
   "metadata": {
    "dotnet_interactive": {
     "language": "fsharp"
    }
   },
   "outputs": [
    {
     "data": {
      "text/html": [
       "<div class=\"dni-plaintext\">5</div>"
      ]
     },
     "execution_count": 18,
     "metadata": {},
     "output_type": "execute_result"
    }
   ],
   "source": [
    "let add x  y = x + y           //  add (x,y) 有不同的意義,後來明白是最基本的參數數數量就不同,(x,y)是１個複合參數\n",
    "add 2 3                       "
   ]
  },
  {
   "cell_type": "code",
   "execution_count": 19,
   "metadata": {
    "dotnet_interactive": {
     "language": "fsharp"
    }
   },
   "outputs": [
    {
     "data": {
      "text/html": [
       "<div class=\"dni-plaintext\">FSI_0023+it@1-8</div>"
      ]
     },
     "execution_count": 19,
     "metadata": {},
     "output_type": "execute_result"
    }
   ],
   "source": [
    "add.GetType"
   ]
  },
  {
   "cell_type": "code",
   "execution_count": 20,
   "metadata": {
    "dotnet_interactive": {
     "language": "fsharp"
    }
   },
   "outputs": [
    {
     "data": {
      "text/html": [
       "<div class=\"dni-plaintext\">5</div>"
      ]
     },
     "execution_count": 20,
     "metadata": {},
     "output_type": "execute_result"
    }
   ],
   "source": [
    "let another_add (a,b) = a + b   //好像沒什麼不一樣\n",
    "another_add (2,3)"
   ]
  },
  {
   "cell_type": "code",
   "execution_count": 21,
   "metadata": {
    "dotnet_interactive": {
     "language": "fsharp"
    }
   },
   "outputs": [
    {
     "data": {
      "text/html": [
       "<div class=\"dni-plaintext\">FSI_0025+it@1-10</div>"
      ]
     },
     "execution_count": 21,
     "metadata": {},
     "output_type": "execute_result"
    }
   ],
   "source": [
    "another_add.GetType"
   ]
  },
  {
   "cell_type": "code",
   "execution_count": 26,
   "metadata": {
    "dotnet_interactive": {
     "language": "fsharp"
    }
   },
   "outputs": [
    {
     "data": {
      "text/html": [
       "<table><thead><tr><th><i>index</i></th><th>value</th></tr></thead><tbody><tr><td>0</td><td><div class=\"dni-plaintext\">2</div></td></tr><tr><td>1</td><td><div class=\"dni-plaintext\">4</div></td></tr></tbody></table>"
      ]
     },
     "execution_count": 26,
     "metadata": {},
     "output_type": "execute_result"
    }
   ],
   "source": [
    "// 多行的方程式域只要縮排,也不用刮號\n",
    "let evens list =\n",
    "   let isEven x = x%2 = 0    // 內套方程式\n",
    "   List.filter isEven list    // List.filter庫方程式\n",
    "   \n",
    "evens oneToFive               "
   ]
  },
  {
   "cell_type": "markdown",
   "metadata": {},
   "source": [
    "#### 變數皆可定義中文後提高可讀"
   ]
  },
  {
   "cell_type": "code",
   "execution_count": 28,
   "metadata": {
    "dotnet_interactive": {
     "language": "fsharp"
    }
   },
   "outputs": [
    {
     "name": "stdout",
     "output_type": "stream",
     "text": [
      "[2; 4; 6; 8; 10; 12; 14; 16; 18; 20]\n"
     ]
    }
   ],
   "source": [
    "let 比對 = List.filter\n",
    "let 是偶數 x = x%2 =0\n",
    "\n",
    "let 找偶數從 數列 =   \n",
    "    比對 是偶數 數列\n",
    "    \n",
    "let 數列1到20 = [1..20]\n",
    "printfn \"%A\" (找偶數從 數列1到20)"
   ]
  },
  {
   "cell_type": "code",
   "execution_count": 29,
   "metadata": {
    "dotnet_interactive": {
     "language": "fsharp"
    }
   },
   "outputs": [
    {
     "data": {
      "text/html": [
       "<table><thead><tr><th><i>index</i></th><th>value</th></tr></thead><tbody><tr><td>0</td><td><div class=\"dni-plaintext\">2</div></td></tr><tr><td>1</td><td><div class=\"dni-plaintext\">4</div></td></tr><tr><td>2</td><td><div class=\"dni-plaintext\">6</div></td></tr><tr><td>3</td><td><div class=\"dni-plaintext\">8</div></td></tr><tr><td>4</td><td><div class=\"dni-plaintext\">10</div></td></tr><tr><td>5</td><td><div class=\"dni-plaintext\">12</div></td></tr><tr><td>6</td><td><div class=\"dni-plaintext\">14</div></td></tr><tr><td>7</td><td><div class=\"dni-plaintext\">16</div></td></tr><tr><td>8</td><td><div class=\"dni-plaintext\">18</div></td></tr><tr><td>9</td><td><div class=\"dni-plaintext\">20</div></td></tr></tbody></table>"
      ]
     },
     "execution_count": 29,
     "metadata": {},
     "output_type": "execute_result"
    }
   ],
   "source": [
    "[for i = 1 to 20 do if 是偶數 i then yield i]"
   ]
  },
  {
   "cell_type": "code",
   "execution_count": 31,
   "metadata": {
    "dotnet_interactive": {
     "language": "fsharp"
    }
   },
   "outputs": [
    {
     "data": {
      "text/html": [
       "<div class=\"dni-plaintext\">338350</div>"
      ]
     },
     "execution_count": 31,
     "metadata": {},
     "output_type": "execute_result"
    }
   ],
   "source": [
    "let sumOfSquaresTo100 =\n",
    "   List.sum ( List.map square [1..100] )\n",
    "\n",
    "//利用管道傳送 |> \n",
    "let sumOfSquaresTo100piped =\n",
    "   [1..100] |> List.map square |> List.sum  \n",
    "\n",
    "// 使用fun來定義lambda 方程式\n",
    "let sumOfSquaresTo100withFun =\n",
    "   [1..100] |> List.map (fun x->x*x) |> List.sum\n",
    "\n",
    "// 方程式會自動傳回最後值,不用return\n",
    "sumOfSquaresTo100withFun"
   ]
  },
  {
   "cell_type": "code",
   "execution_count": 32,
   "metadata": {
    "dotnet_interactive": {
     "language": "fsharp"
    }
   },
   "outputs": [
    {
     "data": {
      "text/html": [
       "<div class=\"dni-plaintext\">30</div>"
      ]
     },
     "execution_count": 32,
     "metadata": {},
     "output_type": "execute_result"
    }
   ],
   "source": [
    "let 求平方和 數列 =\n",
    "    數列 |> List.map (fun x->x*x) |> List.sum\n",
    "求平方和 [2;5;1]"
   ]
  },
  {
   "cell_type": "markdown",
   "metadata": {
    "dotnet_interactive": {
     "language": "fsharp"
    }
   },
   "source": [
    "## 模式比較"
   ]
  },
  {
   "cell_type": "code",
   "execution_count": 17,
   "metadata": {
    "dotnet_interactive": {
     "language": "fsharp"
    }
   },
   "outputs": [
    {
     "name": "stdout",
     "output_type": "stream",
     "text": [
      "x is a\n"
     ]
    }
   ],
   "source": [
    "// Match..with..  強化的 case/switch .\n",
    "let simplePatternMatch =\n",
    "   let x = \"a\"\n",
    "   match x with\n",
    "//    | 5 -> printfn \"5\"  //好像不可亂入 , 有指定x類型\n",
    "    | \"a\" -> printfn \"x is a\"\n",
    "    | \"b\" -> printfn \"x is b\"\n",
    "    | _ -> printfn \"x is something else\"   // _代表*\n",
    "simplePatternMatch"
   ]
  },
  {
   "cell_type": "code",
   "execution_count": 33,
   "metadata": {
    "dotnet_interactive": {
     "language": "fsharp"
    }
   },
   "outputs": [
    {
     "name": "stdout",
     "output_type": "stream",
     "text": [
      "input is an int=99\n",
      "input is missing\n"
     ]
    }
   ],
   "source": [
    "// 有值,沒值\n",
    "let validValue = Some(99)\n",
    "let invalidValue = None\n",
    "\n",
    "// 沒值也可能是由操作產生\n",
    "\n",
    "let optionPatternMatch input =\n",
    "   match input with\n",
    "    | Some i -> printfn \"input is an int=%d\" i\n",
    "    | None -> printfn \"input is missing\"\n",
    "\n",
    "optionPatternMatch validValue\n",
    "optionPatternMatch invalidValue"
   ]
  },
  {
   "cell_type": "markdown",
   "metadata": {
    "dotnet_interactive": {
     "language": "fsharp"
    }
   },
   "source": [
    "## 複合數據列"
   ]
  },
  {
   "cell_type": "code",
   "execution_count": 34,
   "metadata": {
    "dotnet_interactive": {
     "language": "fsharp"
    }
   },
   "outputs": [
    {
     "data": {
      "text/html": [
       "<table><thead><tr><th>Item1</th><th>Item2</th></tr></thead><tbody><tr><td><div class=\"dni-plaintext\">( a, 2, True )</div></td><td><div class=\"dni-plaintext\">a</div></td></tr></tbody></table>"
      ]
     },
     "execution_count": 34,
     "metadata": {},
     "output_type": "execute_result"
    }
   ],
   "source": [
    "// 用逗號分隔等同(1,2)\n",
    "let twoTuple = 1,2\n",
    "let threeTuple = \"a\",2,true\n",
    "let v1,v2,v3 = threeTuple\n",
    "threeTuple ,v1"
   ]
  },
  {
   "cell_type": "code",
   "execution_count": 58,
   "metadata": {
    "dotnet_interactive": {
     "language": "fsharp"
    }
   },
   "outputs": [
    {
     "data": {
      "text/html": [
       "<table><thead><tr><th>First</th><th>Last</th></tr></thead><tbody><tr><td><div class=\"dni-plaintext\">john</div></td><td><div class=\"dni-plaintext\">Doe</div></td></tr></tbody></table>"
      ]
     },
     "execution_count": 58,
     "metadata": {},
     "output_type": "execute_result"
    }
   ],
   "source": [
    "// 記錄類型用分號分隔\n",
    "type Person = {First:string; Last:string}\n",
    "let person1 = {First=\"john\"; Last=\"Doe\"}\n",
    "person1"
   ]
  },
  {
   "cell_type": "code",
   "execution_count": 56,
   "metadata": {
    "dotnet_interactive": {
     "language": "fsharp"
    }
   },
   "outputs": [
    {
     "name": "stdout",
     "output_type": "stream",
     "text": [
      "DegreesC 36.5\n",
      "36.5\n"
     ]
    }
   ],
   "source": [
    "//聯合型別\n",
    "type Temp = \n",
    "    | DegreesC of float\n",
    "    | DegreesF of float\n",
    "let temp = DegreesF 98.6\n",
    "let temp1 = DegreesC 36.5\n",
    "printfn $\"{temp1}\"\n",
    "\n",
    "match temp1 with\n",
    "| DegreesC c -> printfn $\"{c}\"\n",
    "| DegreesF f -> printfn $\"{f}\" \n"
   ]
  },
  {
   "cell_type": "code",
   "execution_count": 59,
   "metadata": {
    "dotnet_interactive": {
     "language": "fsharp"
    }
   },
   "outputs": [
    {
     "name": "stdout",
     "output_type": "stream",
     "text": [
      "Manager [Worker { First = \"John\"\n",
      "                  Last = \"Doe\" }; Worker { First = \"b\"\n",
      "                                           Last = \"bb\" }]\n",
      "Worker { First = \"John\"\n",
      "         Last = \"Doe\" }\n",
      "Worker { First = \"b\"\n",
      "         Last = \"bb\" }\n"
     ]
    },
    {
     "data": {
      "text/html": [
       "<table><thead><tr><th>Item</th></tr></thead><tbody><tr><td><div class=\"dni-plaintext\">[ { Worker { First = &quot;John&quot;\n",
       "         Last = &quot;Doe&quot; }: Item: { { First = &quot;John&quot;\n",
       "  Last = &quot;Doe&quot; }: First: John, Last: Doe } }, { Worker { First = &quot;b&quot;\n",
       "         Last = &quot;bb&quot; }: Item: { { First = &quot;b&quot;\n",
       "  Last = &quot;bb&quot; }: First: b, Last: bb } } ]</div></td></tr></tbody></table>"
      ]
     },
     "execution_count": 59,
     "metadata": {},
     "output_type": "execute_result"
    }
   ],
   "source": [
    "//複雜的聯合型別\n",
    "type Employee = \n",
    "| Worker of Person\n",
    "| Manager of Employee list\n",
    "let jdoe = {First=\"John\";Last=\"Doe\"}\n",
    "let b = {First=\"b\";Last=\"bb\"}\n",
    "let worker = Worker jdoe\n",
    "let worker2 = Worker b\n",
    "let m = Manager [worker;worker2]\n",
    "printfn $\"{m}\" \n",
    "match m with\n",
    "| Worker w -> printfn $\"{w}\"\n",
    "| Manager m -> for i in m do printfn $\"{i}\"\n",
    "m.GetType()\n",
    "m"
   ]
  },
  {
   "cell_type": "markdown",
   "metadata": {},
   "source": [
    "## 輸出"
   ]
  },
  {
   "cell_type": "code",
   "execution_count": 60,
   "metadata": {
    "dotnet_interactive": {
     "language": "fsharp"
    },
    "scrolled": true
   },
   "outputs": [
    {
     "name": "stdout",
     "output_type": "stream",
     "text": [
      "Printing an int 1, a float 2.000000, a bool true\n",
      "A string hello, and something generic [1; 2; 3; 4; 8]\n",
      "twoTuple=(1, 2),\n",
      "Person={ First = \"john\"\n",
      "  Last = \"Doe\" },\n",
      "Temp=DegreesF 98.6,\n",
      "Employee=Worker { First = \"John\"\n",
      "         Last = \"Doe\" }\n",
      "\"{ First = \"john\"\n",
      "  Last = \"Doe\" }\"\n"
     ]
    }
   ],
   "source": [
    "\n",
    "printfn \"Printing an int %i, a float %f, a bool %b\" 1 2.0 true\n",
    "printfn \"A string %s, and something generic %A\" \"hello\" [1;2;3;4;8]\n",
    "\n",
    "// %A 無敵!!!!\n",
    "printfn \"twoTuple=%A,\\nPerson=%A,\\nTemp=%A,\\nEmployee=%A\" \n",
    "         twoTuple person1 temp worker\n",
    "\n",
    "//還有sprintf\n",
    "let person = sprintf $\"{person1}\" \n",
    "printfn \"%A\" person\n"
   ]
  },
  {
   "cell_type": "code",
   "execution_count": 61,
   "metadata": {
    "dotnet_interactive": {
     "language": "fsharp"
    }
   },
   "outputs": [
    {
     "name": "stdout",
     "output_type": "stream",
     "text": [
      "       500\n",
      "     98765\n"
     ]
    }
   ],
   "source": [
    "let a=500\n",
    "printfn \"%10i\" a\n",
    "printfn \"%10i\" 98765"
   ]
  },
  {
   "cell_type": "code",
   "execution_count": 65,
   "metadata": {
    "dotnet_interactive": {
     "language": "fsharp"
    }
   },
   "outputs": [
    {
     "name": "stdout",
     "output_type": "stream",
     "text": [
      "圓半徑為 8.2\n",
      "長方型長 4.2 , 寬 2.1\n"
     ]
    },
    {
     "data": {
      "text/html": [
       "<div class=\"dni-plaintext\">211.24069002737767</div>"
      ]
     },
     "execution_count": 65,
     "metadata": {},
     "output_type": "execute_result"
    }
   ],
   "source": [
    "type IPrintable =\n",
    "    abstract Print: unit -> unit\n",
    "\n",
    "type Shape =\n",
    "    | Circle of float\n",
    "    | EquilateralTriangle of float\n",
    "    | Square of float\n",
    "    | Rectangle of float * float\n",
    "    \n",
    "    member this.Area =\n",
    "        match this with\n",
    "        | Circle r -> Math.PI * (r ** 2.0)\n",
    "        | EquilateralTriangle s -> s * s * sqrt 3.0 / 4.0\n",
    "        | Square s -> s * s\n",
    "        | Rectangle (l , w) -> l * w\n",
    "\n",
    "    member this.Print = (this:>IPrintable).Print\n",
    "\n",
    "    interface IPrintable with\n",
    "        member this.Print () =\n",
    "            match this with\n",
    "            | Circle r -> printfn \"圓半徑為 %A\" r\n",
    "            | EquilateralTriangle s -> printfn \"正三角型邊長 %A\" s\n",
    "            | Square s -> printfn \"正方型邊長 %A\" s\n",
    "            | Rectangle(l, w) -> printfn \"長方型長 %A , 寬 %A\" l w\n",
    "            \n",
    "let c1 = Circle 8.2\n",
    "c1.Print()\n",
    "Rectangle( 4.2, 2.1).Print() \n",
    "c1.Area"
   ]
  },
  {
   "cell_type": "code",
   "execution_count": 67,
   "metadata": {
    "dotnet_interactive": {
     "language": "fsharp"
    }
   },
   "outputs": [
    {
     "name": "stdout",
     "output_type": "stream",
     "text": [
      "初始化三維 (1, 2, 3)\n",
      "初始化三維 (4, 5, 6)\n",
      "初始化三維 (8, 7, 9)\n",
      "初始化三維 (0, 0, 0)\n"
     ]
    }
   ],
   "source": [
    "type MyClass(x0, y0, z0) =\n",
    "    let mutable x = x0\n",
    "    let mutable y = y0\n",
    "    let mutable z = z0\n",
    "    do\n",
    "        printfn \"初始化三維 (%d, %d, %d)\" x y z\n",
    "    member this.X with get() = x and set(value) = x <- value\n",
    "    member this.Y with get() = y and set(value) = y <- value\n",
    "    member this.Z with get() = z and set(value) = z <- value\n",
    "    new() = MyClass(0, 0, 0)\n",
    "\n",
    "// 用new\n",
    "let myObject1 = new MyClass(1, 2, 3)\n",
    "// 不用new\n",
    "let myObject2 = MyClass(4, 5, 6)\n",
    "// 使用引數名\n",
    "let myObject3 = MyClass(y0 = 7, x0 = 8, z0 = 9)\n",
    "// 空引數同new\n",
    "let myObject4 = MyClass()"
   ]
  },
  {
   "cell_type": "code",
   "execution_count": 69,
   "metadata": {
    "dotnet_interactive": {
     "language": "fsharp"
    }
   },
   "outputs": [
    {
     "name": "stdout",
     "output_type": "stream",
     "text": [
      "Mark Upston (25)\n"
     ]
    }
   ],
   "source": [
    "type Author() = class\n",
    "     let mutable firstName = \"\"\n",
    "     let mutable lastName = \"\"\n",
    "     let mutable age = 0\n",
    " \n",
    "     member x.Insert(fName, lName, aAge) =   \n",
    "         firstName <- fName  \n",
    "         lastName <- lName\n",
    "         age <- aAge\n",
    " \n",
    "     member x.Display = Console.WriteLine(firstName + \" \" + lastName + \" (\" + age.ToString() + \")\") \n",
    "end\n",
    "let author1 = new Author()\n",
    "author1.Insert(\"Mark\", \"Upston\", 25)\n",
    "author1.Display"
   ]
  },
  {
   "cell_type": "code",
   "execution_count": 70,
   "metadata": {
    "dotnet_interactive": {
     "language": "fsharp"
    }
   },
   "outputs": [
    {
     "name": "stdout",
     "output_type": "stream",
     "text": [
      "Sharp\n"
     ]
    }
   ],
   "source": [
    "type Sharp() = class\n",
    "    member this.Print() = \n",
    "        printfn \"Sharp\"\n",
    "end\n",
    "let s=new Sharp()\n",
    "s.Print()"
   ]
  },
  {
   "cell_type": "code",
   "execution_count": 32,
   "metadata": {
    "dotnet_interactive": {
     "language": "fsharp"
    }
   },
   "outputs": [
    {
     "name": "stdout",
     "output_type": "stream",
     "text": [
      "Some(100)\n",
      "\n"
     ]
    }
   ],
   "source": [
    "let rec tryFindMatch pred list =\n",
    "    match list with\n",
    "    | head :: tail -> if pred(head)\n",
    "                      then Some(head)\n",
    "                      else tryFindMatch pred tail\n",
    "    | [] -> None\n",
    "\n",
    "let result1 = tryFindMatch (fun elem -> elem = 100) [ 200; 100; 50; 25 ]\n",
    "let result2 = tryFindMatch (fun elem -> elem = 26) [ 200; 100; 50; 25 ]\n",
    "\n",
    "Console.WriteLine(result1) \n",
    "Console.WriteLine(result2) \n"
   ]
  }
 ],
 "metadata": {
  "kernelspec": {
   "display_name": ".NET (F#)",
   "language": "F#",
   "name": ".net-fsharp"
  },
  "language": "fsharp",
  "language_info": {
   "file_extension": ".fs",
   "mimetype": "text/x-fsharp",
   "name": "F#",
   "pygments_lexer": "fsharp",
   "version": "5.0"
  }
 },
 "nbformat": 4,
 "nbformat_minor": 4
}
